{
  "nbformat": 4,
  "nbformat_minor": 0,
  "metadata": {
    "colab": {
      "provenance": []
    },
    "kernelspec": {
      "name": "python3",
      "display_name": "Python 3"
    },
    "language_info": {
      "name": "python"
    }
  },
  "cells": [
    {
      "cell_type": "code",
      "execution_count": 122,
      "metadata": {
        "colab": {
          "base_uri": "https://localhost:8080/"
        },
        "id": "2eTR_iUm3Zp-",
        "outputId": "d496d1d8-2aea-429b-9cf7-4c66db79e963"
      },
      "outputs": [
        {
          "output_type": "stream",
          "name": "stdout",
          "text": [
            "<Response [200]>\n"
          ]
        }
      ],
      "source": [
        "import pandas as pd\n",
        "\n",
        "import requests\n",
        "\n",
        "from bs4 import  BeautifulSoup\n",
        "\n",
        "# Create empty lists to store the scraped data\n",
        "\n",
        "book_names = []\n",
        "\n",
        "writers = []\n",
        "\n",
        "book_texts = []\n",
        "\n",
        "genres = []\n",
        "\n",
        "\n",
        "\n",
        "# Loop through the pages and scrape the data\n",
        "\n",
        "\n",
        "\n",
        "url = 'https://banglakobita.com.bd/গল্প-উপন্যাস/page/1/'\n",
        "\n",
        "response=requests.get(url)\n",
        "\n",
        "print(response)\n",
        "\n",
        "soup = BeautifulSoup(response.content, \"html.parser\")\n",
        "\n",
        "books = soup.find(\"h2\")"
      ]
    },
    {
      "cell_type": "code",
      "source": [],
      "metadata": {
        "id": "tGt9WF0gsMXr"
      },
      "execution_count": null,
      "outputs": []
    },
    {
      "cell_type": "code",
      "source": [
        "print(books.text)"
      ],
      "metadata": {
        "colab": {
          "base_uri": "https://localhost:8080/"
        },
        "id": "XYOdm4MC4LEu",
        "outputId": "a207f67e-9a8a-4e68-d450-f97660a33d3f"
      },
      "execution_count": 123,
      "outputs": [
        {
          "output_type": "stream",
          "name": "stdout",
          "text": [
            "\n",
            "সেপ্টোপাসের খিদে – সত্যজিৎ রায়\n",
            "\n"
          ]
        }
      ]
    },
    {
      "cell_type": "code",
      "source": [
        "from typing_extensions import Text\n",
        "soup = BeautifulSoup(response.content, \"html.parser\")\n",
        "\n",
        "books = soup.find_all(\"article\")\n",
        "for x in books:\n",
        "  books_title=x.find(\"h2\",class_=\"sek-pg-title\").text\n",
        "  print(books_title)"
      ],
      "metadata": {
        "colab": {
          "base_uri": "https://localhost:8080/"
        },
        "id": "W5qJKy7U47sq",
        "outputId": "d312bdb5-50ac-4d74-9fae-672ebde6cbd1"
      },
      "execution_count": 124,
      "outputs": [
        {
          "output_type": "stream",
          "name": "stdout",
          "text": [
            "\n",
            "সেপ্টোপাসের খিদে – সত্যজিৎ রায়\n",
            "\n",
            "\n",
            "সেপ্টোপাসের খিদে – সত্যজিৎ রায়\n",
            "\n",
            "\n",
            "টেরোড্যাকটিলের ডিম – সত্যজিৎ রায়\n",
            "\n",
            "\n",
            "বঙ্কুবাবুর বন্ধু – সত্যজিৎ রায়\n",
            "\n",
            "\n",
            "বর্ণান্ধ – সত্যজিৎ রায়\n",
            "\n",
            "\n",
            "পুরস্কার – সত্যজিৎ রায়\n",
            "\n",
            "\n",
            "অনুরাধা – শরৎচন্দ্র চট্টোপাধ্যায়\n",
            "\n",
            "\n",
            "যদ্যপি আমার গুরু – আহমদ ছফা\n",
            "\n",
            "\n",
            "ক্ষীরের পুতুল – অবনীন্দ্রনাথ ঠাকুর\n",
            "\n",
            "\n",
            "পদ্মা নদীর মাঝি – মানিক বন্দ্যোপাধ্যায়\n",
            "\n",
            "\n",
            "দেবদাস – শরৎচন্দ্র চট্টোপাধ্যায়\n",
            "\n"
          ]
        }
      ]
    },
    {
      "cell_type": "code",
      "source": [
        "from typing_extensions import Text\n",
        "soup = BeautifulSoup(response.content, \"html.parser\")\n",
        "\n",
        "genres = soup.find_all(\"article\")\n",
        "for x in genres:\n",
        "  genres=x.find(\"div\", class_=\"sek-pg-category\").text\n",
        "print(genres)"
      ],
      "metadata": {
        "colab": {
          "base_uri": "https://localhost:8080/"
        },
        "id": "gbomWHZf_caK",
        "outputId": "9de33aa6-fd7c-4348-8082-7edce4747494"
      },
      "execution_count": 125,
      "outputs": [
        {
          "output_type": "stream",
          "name": "stdout",
          "text": [
            "উপন্যাস / গল্প/উপন্যাস / ভালোবাসার গল্প\n"
          ]
        }
      ]
    },
    {
      "cell_type": "code",
      "source": [],
      "metadata": {
        "id": "PvqDXziJc_xj"
      },
      "execution_count": null,
      "outputs": []
    },
    {
      "cell_type": "code",
      "execution_count": 126,
      "metadata": {
        "colab": {
          "base_uri": "https://localhost:8080/"
        },
        "outputId": "a4c4497f-f680-4904-b8b8-aefbe59b8c1f",
        "id": "nc6utR1fdOpX"
      },
      "outputs": [
        {
          "output_type": "stream",
          "name": "stdout",
          "text": [
            "<Response [200]>\n"
          ]
        }
      ],
      "source": [
        "# Loop through the pages and scrape the data\n",
        "\n",
        "\n",
        "url = 'https://banglakobita.com.bd/গল্প-উপন্যাস/page/3/'\n",
        "\n",
        "response=requests.get(url)\n",
        "\n",
        "print(response)\n",
        "\n",
        "soup = BeautifulSoup(response.content, \"html.parser\")\n",
        "\n",
        "genres = soup.find(\"a\")"
      ]
    },
    {
      "cell_type": "code",
      "source": [
        "print(genres)"
      ],
      "metadata": {
        "colab": {
          "base_uri": "https://localhost:8080/"
        },
        "id": "wdDbo-KCdwAQ",
        "outputId": "07a26174-15f9-4986-befc-07d0bc751a82"
      },
      "execution_count": 127,
      "outputs": [
        {
          "output_type": "stream",
          "name": "stdout",
          "text": [
            "<a class=\"skip-link screen-reader-text\" href=\"#main\">Skip to content</a>\n"
          ]
        }
      ]
    },
    {
      "cell_type": "code",
      "source": [
        "from typing_extensions import Text\n",
        "soup = BeautifulSoup(response.content, \"html.parser\")\n",
        "\n",
        "genres = soup.find_all(\"article\")\n",
        "for x in genres:\n",
        "  genres=x.find(\"div\", class_=\"sek-pg-category\").text\n",
        "print(genres)"
      ],
      "metadata": {
        "colab": {
          "base_uri": "https://localhost:8080/"
        },
        "id": "i9OPoAXYd5Ep",
        "outputId": "73ff48f7-d676-40ca-9b21-293c2de3015a"
      },
      "execution_count": 128,
      "outputs": [
        {
          "output_type": "stream",
          "name": "stdout",
          "text": [
            "গল্প/উপন্যাস / ছোটদের গল্প / বিদেশী গল্প / রূপকথা / শিক্ষনীয় গল্প\n"
          ]
        }
      ]
    },
    {
      "cell_type": "code",
      "source": [
        "for x in books:\n",
        "  books_title = x.find(\"h2\", class_=\"sek-pg-title\").text.strip()\n",
        "  title_parts = books_title.split(\"_\")\n",
        "title_parts[0]\n",
        "\n",
        "\n",
        "\n",
        "\n",
        "\n",
        "\n",
        "\n"
      ],
      "metadata": {
        "colab": {
          "base_uri": "https://localhost:8080/",
          "height": 36
        },
        "id": "Nzo6GFjDxdE8",
        "outputId": "0c042371-8a1f-42a5-b520-11a508912d9d"
      },
      "execution_count": 139,
      "outputs": [
        {
          "output_type": "execute_result",
          "data": {
            "text/plain": [
              "'দেবদাস – শরৎচন্দ্র চট্টোপাধ্যায়'"
            ],
            "application/vnd.google.colaboratory.intrinsic+json": {
              "type": "string"
            }
          },
          "metadata": {},
          "execution_count": 139
        }
      ]
    },
    {
      "cell_type": "code",
      "source": [
        "for x in books:\n",
        "  books_title = x.find(\"h2\", class_=\"sek-pg-title\").text\n",
        "  title_parts = books_title.split(\"-\")\n",
        "title_parts[0]"
      ],
      "metadata": {
        "colab": {
          "base_uri": "https://localhost:8080/",
          "height": 36
        },
        "id": "tVQSK0VeHLqz",
        "outputId": "e813ff71-20a0-43b2-98d6-fa40112ab881"
      },
      "execution_count": 138,
      "outputs": [
        {
          "output_type": "execute_result",
          "data": {
            "text/plain": [
              "'\\nদেবদাস – শরৎচন্দ্র চট্টোপাধ্যায়\\n'"
            ],
            "application/vnd.google.colaboratory.intrinsic+json": {
              "type": "string"
            }
          },
          "metadata": {},
          "execution_count": 138
        }
      ]
    },
    {
      "cell_type": "code",
      "source": [
        "text=\"দেবদাস – শরৎচন্দ্র চট্টোপাধ্যায়\"\n",
        "str=text.split(\"-\")\n",
        "print(str[0])"
      ],
      "metadata": {
        "colab": {
          "base_uri": "https://localhost:8080/"
        },
        "id": "4WDhTMWpHja1",
        "outputId": "88af7676-4d2f-48c5-9c84-de81e96de169"
      },
      "execution_count": 143,
      "outputs": [
        {
          "output_type": "stream",
          "name": "stdout",
          "text": [
            "দেবদাস – শরৎচন্দ্র চট্টোপাধ্যায়\n"
          ]
        }
      ]
    },
    {
      "cell_type": "code",
      "source": [
        "txt=\"দেবদাস – শরৎচন্দ্র চট্টোপাধ্যায়\"\n",
        "x=txt.split(\"–\")\n",
        "print(x[0])\n",
        "print(x[1])\n"
      ],
      "metadata": {
        "colab": {
          "base_uri": "https://localhost:8080/"
        },
        "id": "fSoORjYMsGew",
        "outputId": "6276442c-7747-475e-8678-ffaffabf7482"
      },
      "execution_count": 5,
      "outputs": [
        {
          "output_type": "stream",
          "name": "stdout",
          "text": [
            "দেবদাস \n",
            " শরৎচন্দ্র চট্টোপাধ্যায়\n"
          ]
        }
      ]
    },
    {
      "cell_type": "code",
      "source": [
        "import pandas as pd\n",
        "import requests\n",
        "from bs4 import BeautifulSoup\n",
        "\n",
        "# Create empty lists to store the scraped data\n",
        "book_titles = []\n",
        "book_genres = []\n",
        "\n",
        "# Loop through the pages and scrape the data\n",
        "base_url = 'https://banglakobita.com.bd/গল্প-উপন্যাস/page/'\n",
        "\n",
        "for page_num in range(1, 11):\n",
        "    url = f'{base_url}{page_num}/'\n",
        "    response = requests.get(url)\n",
        "\n",
        "    if response.status_code == 200:\n",
        "        soup = BeautifulSoup(response.content, 'html.parser')\n",
        "        books = soup.find_all('article')\n",
        "\n",
        "        for book in books:\n",
        "            title = book.find(\"h2\", class_=\"sek-pg-title\").text.strip()\n",
        "            genre = book.find(\"div\", class_=\"sek-pg-category\").text.strip()\n",
        "\n",
        "            book_titles.append(title)\n",
        "            book_genres.append(genre)\n",
        "\n",
        "# Creating a DataFrame\n",
        "data = {\n",
        "    'Book Title': book_titles,\n",
        "    'Genre': book_genres\n",
        "}\n",
        "\n",
        "df = pd.DataFrame(data)\n",
        "print(df)"
      ],
      "metadata": {
        "colab": {
          "base_uri": "https://localhost:8080/"
        },
        "id": "51TawRCBKeGA",
        "outputId": "b16f8181-dfd6-4641-e90e-1d305997f764"
      },
      "execution_count": 4,
      "outputs": [
        {
          "output_type": "stream",
          "name": "stdout",
          "text": [
            "                           Book Title  \\\n",
            "0      সেপ্টোপাসের খিদে – সত্যজিৎ রায়   \n",
            "1      সেপ্টোপাসের খিদে – সত্যজিৎ রায়   \n",
            "2    টেরোড্যাকটিলের ডিম – সত্যজিৎ রায়   \n",
            "3      বঙ্কুবাবুর বন্ধু – সত্যজিৎ রায়   \n",
            "4              বর্ণান্ধ – সত্যজিৎ রায়   \n",
            "..                                ...   \n",
            "100   বিলাসী – শরৎচন্দ্র চট্টোপাধ্যায়   \n",
            "101    মহেশ – শরৎচন্দ্র চট্টোপাধ্যায়   \n",
            "102      একরাত্রি – রবীন্দ্রনাথ ঠাকুর   \n",
            "103  কাবুলিওয়ালা – রবীন্দ্রনাথ ঠাকুর   \n",
            "104          ছুটি – রবীন্দ্রনাথ ঠাকুর   \n",
            "\n",
            "                                          Genre  \n",
            "0                                  গল্প/উপন্যাস  \n",
            "1                                  গল্প/উপন্যাস  \n",
            "2                                  গল্প/উপন্যাস  \n",
            "3                                  গল্প/উপন্যাস  \n",
            "4                                  গল্প/উপন্যাস  \n",
            "..                                          ...  \n",
            "100                                গল্প/উপন্যাস  \n",
            "101  গল্প/উপন্যাস / ছোটদের গল্প / জীবনমুখী গল্প  \n",
            "102               গল্প/উপন্যাস / ভালোবাসার গল্প  \n",
            "103                                গল্প/উপন্যাস  \n",
            "104                  গল্প/উপন্যাস / ছোটদের গল্প  \n",
            "\n",
            "[105 rows x 2 columns]\n"
          ]
        }
      ]
    },
    {
      "cell_type": "code",
      "source": [],
      "metadata": {
        "colab": {
          "base_uri": "https://localhost:8080/"
        },
        "id": "vJstetBULWK-",
        "outputId": "06f921c4-3d40-482c-b5eb-41fd96c03930"
      },
      "execution_count": 5,
      "outputs": [
        {
          "output_type": "stream",
          "name": "stdout",
          "text": [
            "                           Book Title  \\\n",
            "0      সেপ্টোপাসের খিদে – সত্যজিৎ রায়   \n",
            "1      সেপ্টোপাসের খিদে – সত্যজিৎ রায়   \n",
            "2    টেরোড্যাকটিলের ডিম – সত্যজিৎ রায়   \n",
            "3      বঙ্কুবাবুর বন্ধু – সত্যজিৎ রায়   \n",
            "4              বর্ণান্ধ – সত্যজিৎ রায়   \n",
            "..                                ...   \n",
            "100   বিলাসী – শরৎচন্দ্র চট্টোপাধ্যায়   \n",
            "101    মহেশ – শরৎচন্দ্র চট্টোপাধ্যায়   \n",
            "102      একরাত্রি – রবীন্দ্রনাথ ঠাকুর   \n",
            "103  কাবুলিওয়ালা – রবীন্দ্রনাথ ঠাকুর   \n",
            "104          ছুটি – রবীন্দ্রনাথ ঠাকুর   \n",
            "\n",
            "                                          Genre  \n",
            "0                                  গল্প/উপন্যাস  \n",
            "1                                  গল্প/উপন্যাস  \n",
            "2                                  গল্প/উপন্যাস  \n",
            "3                                  গল্প/উপন্যাস  \n",
            "4                                  গল্প/উপন্যাস  \n",
            "..                                          ...  \n",
            "100                                গল্প/উপন্যাস  \n",
            "101  গল্প/উপন্যাস / ছোটদের গল্প / জীবনমুখী গল্প  \n",
            "102               গল্প/উপন্যাস / ভালোবাসার গল্প  \n",
            "103                                গল্প/উপন্যাস  \n",
            "104                  গল্প/উপন্যাস / ছোটদের গল্প  \n",
            "\n",
            "[105 rows x 2 columns]\n"
          ]
        }
      ]
    },
    {
      "cell_type": "code",
      "source": [
        "import pandas as pd\n",
        "import requests\n",
        "from bs4 import BeautifulSoup\n",
        "\n",
        "# Create empty lists to store the scraped data\n",
        "book_names = []\n",
        "writers = []\n",
        "book_genres = []\n",
        "\n",
        "# Loop through the pages and scrape the data\n",
        "base_url = 'https://banglakobita.com.bd/গল্প-উপন্যাস/page/'\n",
        "\n",
        "for page_num in range(1, 11):\n",
        "    url = f'{base_url}{page_num}/'\n",
        "    response = requests.get(url)\n",
        "\n",
        "    if response.status_code == 200:\n",
        "        soup = BeautifulSoup(response.content, 'html.parser')\n",
        "        books = soup.find_all('article')\n",
        "\n",
        "        for book in books:\n",
        "            title = book.find(\"h2\", class_=\"sek-pg-title\").text.strip()\n",
        "            genre = book.find(\"div\", class_=\"sek-pg-category\").text.strip()\n",
        "\n",
        "            # Splitting the title into book name and writer by its middle\n",
        "            title_parts = title.split(' – ')  # Change ' - ' to your specific separator\n",
        "\n",
        "            if len(title_parts) >= 2:\n",
        "                book_name = title_parts[0].strip()\n",
        "                writer = title_parts[1].strip()\n",
        "\n",
        "                book_names.append(book_name)\n",
        "                writers.append(writer)\n",
        "                book_genres.append(genre)\n",
        "            else:\n",
        "                print(f\"Title format doesn't match expected pattern: {title}\")\n",
        "\n",
        "# Creating a DataFrame\n",
        "data = {\n",
        "    'Book Name': book_names,\n",
        "    'Writer': writers,\n",
        "    'Genre': book_genres\n",
        "}\n",
        "\n",
        "df = pd.DataFrame(data)\n",
        "\n",
        "# Print book names, writers, and genres\n",
        "for index, row in df.iterrows():\n",
        "    print(f\"Book Name: {row['Book Name']}\")\n",
        "    print(f\"Writer: {row['Writer']}\")\n",
        "    print(f\"Genre: {row['Genre']}\")\n",
        "    print(\"-\" * 20)"
      ],
      "metadata": {
        "colab": {
          "base_uri": "https://localhost:8080/"
        },
        "id": "loZWjNveVtLo",
        "outputId": "eb7d9b29-043a-47f3-9e85-767428c11aae"
      },
      "execution_count": 8,
      "outputs": [
        {
          "output_type": "stream",
          "name": "stdout",
          "text": [
            "Title format doesn't match expected pattern: কিশোর কাজি (আরব্য উপন্যাস অবলম্বনে)\n",
            "Title format doesn't match expected pattern: কিশোর কাজি (আরব্য উপন্যাস অবলম্বনে)\n",
            "Title format doesn't match expected pattern: নাসিরুদ্দিন হোজ্জার গল্প\n",
            "Title format doesn't match expected pattern: হৈমন্তী – রবীন্দ্রনাথ ঠাকুর\n",
            "Title format doesn't match expected pattern: এক টুকরো রুটি – লিও টলস্টয়\n",
            "Title format doesn't match expected pattern: কাঞ্চনমালা আর কাঁকনমালা\n",
            "Book Name: সেপ্টোপাসের খিদে\n",
            "Writer: সত্যজিৎ রায়\n",
            "Genre: গল্প/উপন্যাস\n",
            "--------------------\n",
            "Book Name: সেপ্টোপাসের খিদে\n",
            "Writer: সত্যজিৎ রায়\n",
            "Genre: গল্প/উপন্যাস\n",
            "--------------------\n",
            "Book Name: টেরোড্যাকটিলের ডিম\n",
            "Writer: সত্যজিৎ রায়\n",
            "Genre: গল্প/উপন্যাস\n",
            "--------------------\n",
            "Book Name: বঙ্কুবাবুর বন্ধু\n",
            "Writer: সত্যজিৎ রায়\n",
            "Genre: গল্প/উপন্যাস\n",
            "--------------------\n",
            "Book Name: বর্ণান্ধ\n",
            "Writer: সত্যজিৎ রায়\n",
            "Genre: গল্প/উপন্যাস\n",
            "--------------------\n",
            "Book Name: পুরস্কার\n",
            "Writer: সত্যজিৎ রায়\n",
            "Genre: গল্প/উপন্যাস\n",
            "--------------------\n",
            "Book Name: অনুরাধা\n",
            "Writer: শরৎচন্দ্র চট্টোপাধ্যায়\n",
            "Genre: উপন্যাস / গল্প/উপন্যাস / ভালোবাসার গল্প\n",
            "--------------------\n",
            "Book Name: যদ্যপি আমার গুরু\n",
            "Writer: আহমদ ছফা\n",
            "Genre: উপন্যাস / গল্প/উপন্যাস / জীবনমুখী গল্প / শিক্ষনীয় গল্প\n",
            "--------------------\n",
            "Book Name: ক্ষীরের পুতুল\n",
            "Writer: অবনীন্দ্রনাথ ঠাকুর\n",
            "Genre: গল্প/উপন্যাস / ছোটদের গল্প / রূপকথা\n",
            "--------------------\n",
            "Book Name: পদ্মা নদীর মাঝি\n",
            "Writer: মানিক বন্দ্যোপাধ্যায়\n",
            "Genre: উপন্যাস / গল্প/উপন্যাস / জীবনমুখী গল্প\n",
            "--------------------\n",
            "Book Name: দেবদাস\n",
            "Writer: শরৎচন্দ্র চট্টোপাধ্যায়\n",
            "Genre: উপন্যাস / গল্প/উপন্যাস / ভালোবাসার গল্প\n",
            "--------------------\n",
            "Book Name: রামকানাইয়ের নির্বুদ্ধিতা\n",
            "Writer: রবীন্দ্রনাথ ঠাকুর\n",
            "Genre: উপন্যাস / গল্প/উপন্যাস / ছোটদের গল্প / জীবনমুখী গল্প\n",
            "--------------------\n",
            "Book Name: রামকানাইয়ের নির্বুদ্ধিতা\n",
            "Writer: রবীন্দ্রনাথ ঠাকুর\n",
            "Genre: উপন্যাস / গল্প/উপন্যাস / ছোটদের গল্প / জীবনমুখী গল্প\n",
            "--------------------\n",
            "Book Name: পল্লী সমাজ\n",
            "Writer: শরৎচন্দ্র চট্টোপাধ্যায়\n",
            "Genre: উপন্যাস / গল্প/উপন্যাস / জীবনমুখী গল্প\n",
            "--------------------\n",
            "Book Name: অদ্ভুত আতিথেয়তা\n",
            "Writer: ঈশ্বরচন্দ্র বিদ্যাসাগর\n",
            "Genre: গল্প/উপন্যাস / ছোটদের গল্প / শিক্ষনীয় গল্প\n",
            "--------------------\n",
            "Book Name: অপরিচিতা\n",
            "Writer: রবীন্দ্রনাথ ঠাকুর\n",
            "Genre: উপন্যাস / গল্প/উপন্যাস / জীবনমুখী গল্প\n",
            "--------------------\n",
            "Book Name: তালনবমী\n",
            "Writer: বিভূতিভূষণ বন্দ্যোপাধ্যায়\n",
            "Genre: গল্প/উপন্যাস / ছোটদের গল্প\n",
            "--------------------\n",
            "Book Name: কাশীনাথ\n",
            "Writer: শরৎচন্দ্র চট্টোপাধ্যায়\n",
            "Genre: উপন্যাস / গল্প/উপন্যাস\n",
            "--------------------\n",
            "Book Name: অসিলক্ষণ পন্ডিত\n",
            "Writer: সুকুমার রায়\n",
            "Genre: গল্প/উপন্যাস / ছোটদের গল্প / হাসির গল্প\n",
            "--------------------\n",
            "Book Name: অর্ফিয়ুস\n",
            "Writer: সুকুমার রায়\n",
            "Genre: গল্প/উপন্যাস / ছোটদের গল্প / রূপকথা\n",
            "--------------------\n",
            "Book Name: ওয়াসিলিসা\n",
            "Writer: সুকুমার রায়\n",
            "Genre: গল্প/উপন্যাস / ছোটদের গল্প / রূপকথা\n",
            "--------------------\n",
            "Book Name: ঈশ্বরের প্রতিদ্বন্দ্বী\n",
            "Writer: শওকত ওসমান\n",
            "Genre: গল্প/উপন্যাস / শিক্ষনীয় গল্প\n",
            "--------------------\n",
            "Book Name: বাঁধ\n",
            "Writer: জহির রায়হান\n",
            "Genre: গল্প/উপন্যাস / ছোটদের গল্প / জীবনমুখী গল্প / শিক্ষনীয় গল্প\n",
            "--------------------\n",
            "Book Name: বাঁধ\n",
            "Writer: জহির রায়হান\n",
            "Genre: গল্প/উপন্যাস / ছোটদের গল্প / জীবনমুখী গল্প / শিক্ষনীয় গল্প\n",
            "--------------------\n",
            "Book Name: নিয়তি\n",
            "Writer: হুমায়ূন আহমেদ\n",
            "Genre: গল্প/উপন্যাস / ছোটদের গল্প / জীবনমুখী গল্প\n",
            "--------------------\n",
            "Book Name: অভাগীর স্বর্গ\n",
            "Writer: শরৎচন্দ্র চট্টোপাধ্যায়\n",
            "Genre: গল্প/উপন্যাস / জীবনমুখী গল্প / শিক্ষনীয় গল্প\n",
            "--------------------\n",
            "Book Name: আম আঁটির ভেঁপু\n",
            "Writer: বিভূতিভূষণ বন্দ্যোপাধ্যায়\n",
            "Genre: গল্প/উপন্যাস / ছোটদের গল্প / জীবনমুখী গল্প / শিক্ষনীয় গল্প\n",
            "--------------------\n",
            "Book Name: সাড়ে তিন হাত জমি\n",
            "Writer: মূল: লেব তলস্তয় / রূপান্তর : প্রফেসর ড. সরকার আবদুল মান্নান\n",
            "Genre: গল্প/উপন্যাস / ছোটদের গল্প / জীবনমুখী গল্প / বিদেশী গল্প\n",
            "--------------------\n",
            "Book Name: রিপভ্যান উইংকল\n",
            "Writer: ফখরুজ্জামান চৌধুরী\n",
            "Genre: গল্প/উপন্যাস / ছোটদের গল্প / বিদেশী গল্প\n",
            "--------------------\n",
            "Book Name: মার্চেন্ট অব ভেনিস\n",
            "Writer: উইলিয়াম শেক্সপিয়ার\n",
            "Genre: গল্প/উপন্যাস / ছোটদের গল্প / বিদেশী গল্প / শিক্ষনীয় গল্প / হাসির গল্প\n",
            "--------------------\n",
            "Book Name: সোহরাব রোস্তম\n",
            "Writer: মহাকবি আবুল কাসেম ফেরদৌসী\n",
            "Genre: গল্প/উপন্যাস / ছোটদের গল্প / রূপকথা\n",
            "--------------------\n",
            "Book Name: রবিনসন ক্রুশো\n",
            "Writer: ড্যানিয়েল ডিফো\n",
            "Genre: গল্প/উপন্যাস / ছোটদের গল্প / বিদেশী গল্প / রূপকথা\n",
            "--------------------\n",
            "Book Name: রাজকুমার ও ভিখারির ছেলে\n",
            "Writer: মার্ক টোয়েন\n",
            "Genre: গল্প/উপন্যাস / ছোটদের গল্প / বিদেশী গল্প / রূপকথা / শিক্ষনীয় গল্প\n",
            "--------------------\n",
            "Book Name: চরু\n",
            "Writer: হাসান আজিজুল হক\n",
            "Genre: গল্প/উপন্যাস / ছোটদের গল্প / শিক্ষনীয় গল্প\n",
            "--------------------\n",
            "Book Name: বিচার নেই\n",
            "Writer: আমীরুল ইসলাম\n",
            "Genre: গল্প/উপন্যাস / ছোটদের গল্প\n",
            "--------------------\n",
            "Book Name: উনিশ শ’ একাত্তর\n",
            "Writer: ইমদাদুল হক মিলন\n",
            "Genre: গল্প/উপন্যাস / ছোটদের গল্প / জীবনমুখী গল্প\n",
            "--------------------\n",
            "Book Name: অলক্ষুণে জুতো\n",
            "Writer: মোহাম্মদ নাসির আলী\n",
            "Genre: গল্প/উপন্যাস / ছোটদের গল্প\n",
            "--------------------\n",
            "Book Name: মানুষের মন\n",
            "Writer: বনফুল\n",
            "Genre: গল্প/উপন্যাস / ছোটদের গল্প\n",
            "--------------------\n",
            "Book Name: বুলু\n",
            "Writer: অজিত কুমার গুহ\n",
            "Genre: গল্প/উপন্যাস / ছোটদের গল্প / জীবনমুখী গল্প\n",
            "--------------------\n",
            "Book Name: গুরুচন্ডালী\n",
            "Writer: শিবরাম চক্রবর্তী\n",
            "Genre: গল্প/উপন্যাস / ছোটদের গল্প / হাসির গল্প\n",
            "--------------------\n",
            "Book Name: তোতাকাহিনী\n",
            "Writer: রবীন্দ্রনাথ ঠাকুর\n",
            "Genre: গল্প/উপন্যাস / ছোটদের গল্প / শিক্ষনীয় গল্প\n",
            "--------------------\n",
            "Book Name: হলুদ টিয়া সাদা টিয়া (মারমা রূপকথা)\n",
            "Writer: বাংলা রূপ: মাউচিং\n",
            "Genre: গল্প/উপন্যাস / ছোটদের গল্প / রূপকথা\n",
            "--------------------\n",
            "Book Name: আষাঢ়ের এক রাতে\n",
            "Writer: হালিমা খাতুন\n",
            "Genre: গল্প/উপন্যাস / ছোটদের গল্প\n",
            "--------------------\n",
            "Book Name: আষাঢ়ের এক রাতে\n",
            "Writer: হালিমা খাতুন\n",
            "Genre: গল্প/উপন্যাস / ছোটদের গল্প\n",
            "--------------------\n",
            "Book Name: আলাউদ্দিনের চেরাগ\n",
            "Writer: হুমায়ূন আহমেদ\n",
            "Genre: গল্প/উপন্যাস / ছোটদের গল্প / রূপকথা\n",
            "--------------------\n",
            "Book Name: সাত ভাই চম্পা\n",
            "Writer: দক্ষিণারঞ্জন মিত্র মজুমদার\n",
            "Genre: গল্প/উপন্যাস / ছোটদের গল্প / রূপকথা\n",
            "--------------------\n",
            "Book Name: ছেলেধরা\n",
            "Writer: শরৎচন্দ্র চট্টোপাধ্যায়\n",
            "Genre: গল্প/উপন্যাস / ছোটদের গল্প / হাসির গল্প\n",
            "--------------------\n",
            "Book Name: একজন ক্রীতদাস\n",
            "Writer: হুমায়ূন আহমেদ\n",
            "Genre: গল্প/উপন্যাস / ভালোবাসার গল্প\n",
            "--------------------\n",
            "Book Name: ব্যাঙের সমুদ্র দেখা\n",
            "Writer: সুকুমার রায়\n",
            "Genre: গল্প/উপন্যাস / ছোটদের গল্প / হাসির গল্প\n",
            "--------------------\n",
            "Book Name: উকিলের বুদ্ধি\n",
            "Writer: সুকুমার রায়\n",
            "Genre: গল্প/উপন্যাস / ছোটদের গল্প / হাসির গল্প\n",
            "--------------------\n",
            "Book Name: কানকাটা রাজার দেশ\n",
            "Writer: অবনীন্দ্রনাথ ঠাকুর\n",
            "Genre: গল্প/উপন্যাস / ছোটদের গল্প / হাসির গল্প\n",
            "--------------------\n",
            "Book Name: টুনটুনি আর টুনটুনা\n",
            "Writer: জসীম উদ্দীন\n",
            "Genre: গল্প/উপন্যাস / ছোটদের গল্প / রূপকথা / হাসির গল্প\n",
            "--------------------\n",
            "Book Name: পরের ধনে পোদ্দারী\n",
            "Writer: জসীম উদ্দীন\n",
            "Genre: গল্প/উপন্যাস / ছোটদের গল্প / হাসির গল্প\n",
            "--------------------\n",
            "Book Name: জিদ\n",
            "Writer: জসীম উদ্দীন\n",
            "Genre: গল্প/উপন্যাস / ছোটদের গল্প / রূপকথা / হাসির গল্প\n",
            "--------------------\n",
            "Book Name: জিদ\n",
            "Writer: জসীম উদ্দীন\n",
            "Genre: গল্প/উপন্যাস / ছোটদের গল্প / রূপকথা / হাসির গল্প\n",
            "--------------------\n",
            "Book Name: নাপিত ডাক্তার\n",
            "Writer: জসীম উদ্দীন\n",
            "Genre: গল্প/উপন্যাস / ছোটদের গল্প / হাসির গল্প\n",
            "--------------------\n",
            "Book Name: আয়না\n",
            "Writer: জসীম উদ্দীন\n",
            "Genre: গল্প/উপন্যাস / ছোটদের গল্প / হাসির গল্প\n",
            "--------------------\n",
            "Book Name: গোপ্যার বউ\n",
            "Writer: জসীম উদ্দীন\n",
            "Genre: গল্প/উপন্যাস / ছোটদের গল্প / হাসির গল্প\n",
            "--------------------\n",
            "Book Name: বেঁচে থাকো সর্দি কাশি\n",
            "Writer: সৈয়দ মুজতবা আলী\n",
            "Genre: গল্প/উপন্যাস / হাসির গল্প\n",
            "--------------------\n",
            "Book Name: সম্পত্তি সমর্পণ\n",
            "Writer: রবীন্দ্রনাথ ঠাকুর\n",
            "Genre: উপন্যাস / গল্প/উপন্যাস / ছোটদের গল্প\n",
            "--------------------\n",
            "Book Name: একটা আষাঢ়ে গল্প\n",
            "Writer: রবীন্দ্রনাথ ঠাকুর\n",
            "Genre: গল্প/উপন্যাস / জীবনমুখী গল্প / শিক্ষনীয় গল্প\n",
            "--------------------\n",
            "Book Name: সৌদামিনী মালো\n",
            "Writer: শওকত ওসমান\n",
            "Genre: গল্প/উপন্যাস / জীবনমুখী গল্প / শিক্ষনীয় গল্প\n",
            "--------------------\n",
            "Book Name: একটি তুলসী গাছের কাহিনি\n",
            "Writer: সৈয়দ ওয়ালীউল্লাহ্\n",
            "Genre: গল্প/উপন্যাস / জীবনমুখী গল্প / শিক্ষনীয় গল্প\n",
            "--------------------\n",
            "Book Name: ঋণ পরিশোধ\n",
            "Writer: মোহাম্মদ নাসির আলী\n",
            "Genre: গল্প/উপন্যাস / ছোটদের গল্প / শিক্ষনীয় গল্প / হাসির গল্প\n",
            "--------------------\n",
            "Book Name: ঋণ পরিশোধ\n",
            "Writer: মোহাম্মদ নাসির আলী\n",
            "Genre: গল্প/উপন্যাস / ছোটদের গল্প / শিক্ষনীয় গল্প / হাসির গল্প\n",
            "--------------------\n",
            "Book Name: কতটা জমি দরকার\n",
            "Writer: লিও টলস্টয়\n",
            "Genre: গল্প/উপন্যাস / ছোটদের গল্প / জীবনমুখী গল্প / শিক্ষনীয় গল্প\n",
            "--------------------\n",
            "Book Name: এক বছরের রাজা\n",
            "Writer: সুকুমার রায়\n",
            "Genre: গল্প/উপন্যাস / ছোটদের গল্প / শিক্ষনীয় গল্প\n",
            "--------------------\n",
            "Book Name: হাজার বছর ধরে\n",
            "Writer: জহির রায়হান\n",
            "Genre: উপন্যাস / জীবনমুখী গল্প / ভালোবাসার গল্প\n",
            "--------------------\n",
            "Book Name: প্রাগৈতিহাসিক\n",
            "Writer: মানিক বন্দ্যোপাধ্যায়\n",
            "Genre: উপন্যাস / ভালোবাসার গল্প\n",
            "--------------------\n",
            "Book Name: ইঁদুরের ভোজ\n",
            "Writer: রবীন্দ্রনাথ ঠাকুর\n",
            "Genre: গল্প/উপন্যাস / ছোটদের গল্প / হাসির গল্প\n",
            "--------------------\n",
            "Book Name: সুভা\n",
            "Writer: রবীন্দ্রনাথ ঠাকুর\n",
            "Genre: গল্প/উপন্যাস / ভালোবাসার গল্প\n",
            "--------------------\n",
            "Book Name: পোস্টমাস্টার\n",
            "Writer: রবীন্দ্রনাথ ঠাকুর\n",
            "Genre: গল্প/উপন্যাস / ছোটদের গল্প / জীবনমুখী গল্প\n",
            "--------------------\n",
            "Book Name: মানুষ কী নিয়ে বাঁচে\n",
            "Writer: লিও টলস্টয়\n",
            "Genre: গল্প/উপন্যাস / ছোটদের গল্প / জীবনমুখী গল্প / রূপকথা / শিক্ষনীয় গল্প\n",
            "--------------------\n",
            "Book Name: মানুষ কী নিয়ে বাঁচে\n",
            "Writer: লিও টলস্টয়\n",
            "Genre: গল্প/উপন্যাস / ছোটদের গল্প / জীবনমুখী গল্প / রূপকথা / শিক্ষনীয় গল্প\n",
            "--------------------\n",
            "Book Name: শিশুর সরলতা\n",
            "Writer: লিও টলস্টয়\n",
            "Genre: গল্প/উপন্যাস / ছোটদের গল্প / শিক্ষনীয় গল্প\n",
            "--------------------\n",
            "Book Name: এক ছিল জোলা\n",
            "Writer: রুহুল আমিন বাবুল\n",
            "Genre: গল্প/উপন্যাস / ছোটদের গল্প / রূপকথা / হাসির গল্প\n",
            "--------------------\n",
            "Book Name: লালু : ৩\n",
            "Writer: শরৎচন্দ্র চট্টোপাধ্যায়\n",
            "Genre: গল্প/উপন্যাস / ছোটদের গল্প\n",
            "--------------------\n",
            "Book Name: লালু : ২\n",
            "Writer: শরৎচন্দ্র চট্টোপাধ্যায়\n",
            "Genre: গল্প/উপন্যাস / ছোটদের গল্প\n",
            "--------------------\n",
            "Book Name: লালু : ১\n",
            "Writer: শরৎচন্দ্র চট্টোপাধ্যায়\n",
            "Genre: গল্প/উপন্যাস / ছোটদের গল্প\n",
            "--------------------\n",
            "Book Name: জলপরী ও কাঠুরের গল্প\n",
            "Writer: ঈশপ\n",
            "Genre: গল্প/উপন্যাস / রূপকথা / শিক্ষনীয় গল্প\n",
            "--------------------\n",
            "Book Name: একসূত্রে\n",
            "Writer: শওকত ওসমান\n",
            "Genre: গল্প/উপন্যাস / জীবনমুখী গল্প / শিক্ষনীয় গল্প\n",
            "--------------------\n",
            "Book Name: নতুনদা\n",
            "Writer: শরৎচন্দ্র চট্টোপাধ্যায়\n",
            "Genre: গল্প/উপন্যাস / ছোটদের গল্প / হাসির গল্প\n",
            "--------------------\n",
            "Book Name: দুরন্ত পথিক\n",
            "Writer: কাজী নজরুল ইসলাম\n",
            "Genre: গল্প/উপন্যাস / ছোটদের গল্প / জীবনমুখী গল্প / শিক্ষনীয় গল্প\n",
            "--------------------\n",
            "Book Name: দুরন্ত পথিক\n",
            "Writer: কাজী নজরুল ইসলাম\n",
            "Genre: গল্প/উপন্যাস / ছোটদের গল্প / জীবনমুখী গল্প / শিক্ষনীয় গল্প\n",
            "--------------------\n",
            "Book Name: রামের সুমতি\n",
            "Writer: শরৎচন্দ্র চট্টোপাধ্যায়\n",
            "Genre: গল্প/উপন্যাস\n",
            "--------------------\n",
            "Book Name: আদুভাই\n",
            "Writer: আবুল মনসুর আহমদ\n",
            "Genre: গল্প/উপন্যাস / ছোটদের গল্প / শিক্ষনীয় গল্প\n",
            "--------------------\n",
            "Book Name: জোঁক\n",
            "Writer: আবু ইসহাক\n",
            "Genre: গল্প/উপন্যাস / জীবনমুখী গল্প / শিক্ষনীয় গল্প\n",
            "--------------------\n",
            "Book Name: লালসালু\n",
            "Writer: সৈয়দ ওয়ালীউল্লাহ\n",
            "Genre: গল্প/উপন্যাস / জীবনমুখী গল্প\n",
            "--------------------\n",
            "Book Name: অপূর্ব ক্ষমা\n",
            "Writer: মীর মশাররফ হোসেন\n",
            "Genre: গল্প/উপন্যাস / শিক্ষনীয় গল্প\n",
            "--------------------\n",
            "Book Name: মহাপতঙ্গ\n",
            "Writer: আবু ইসহাক\n",
            "Genre: গল্প/উপন্যাস / জীবনমুখী গল্প / শিক্ষনীয় গল্প\n",
            "--------------------\n",
            "Book Name: রসগোল্লা\n",
            "Writer: সৈয়দ মুজতবা আলী\n",
            "Genre: গল্প/উপন্যাস / হাসির গল্প\n",
            "--------------------\n",
            "Book Name: দুই মুসাফির\n",
            "Writer: শওকত ওসমান\n",
            "Genre: গল্প/উপন্যাস / শিক্ষনীয় গল্প\n",
            "--------------------\n",
            "Book Name: বলাই\n",
            "Writer: রবীন্দ্রনাথ ঠাকুর\n",
            "Genre: গল্প/উপন্যাস\n",
            "--------------------\n",
            "Book Name: বিলাসী\n",
            "Writer: শরৎচন্দ্র চট্টোপাধ্যায়\n",
            "Genre: গল্প/উপন্যাস\n",
            "--------------------\n",
            "Book Name: বিলাসী\n",
            "Writer: শরৎচন্দ্র চট্টোপাধ্যায়\n",
            "Genre: গল্প/উপন্যাস\n",
            "--------------------\n",
            "Book Name: মহেশ\n",
            "Writer: শরৎচন্দ্র চট্টোপাধ্যায়\n",
            "Genre: গল্প/উপন্যাস / ছোটদের গল্প / জীবনমুখী গল্প\n",
            "--------------------\n",
            "Book Name: একরাত্রি\n",
            "Writer: রবীন্দ্রনাথ ঠাকুর\n",
            "Genre: গল্প/উপন্যাস / ভালোবাসার গল্প\n",
            "--------------------\n",
            "Book Name: কাবুলিওয়ালা\n",
            "Writer: রবীন্দ্রনাথ ঠাকুর\n",
            "Genre: গল্প/উপন্যাস\n",
            "--------------------\n",
            "Book Name: ছুটি\n",
            "Writer: রবীন্দ্রনাথ ঠাকুর\n",
            "Genre: গল্প/উপন্যাস / ছোটদের গল্প\n",
            "--------------------\n"
          ]
        }
      ]
    }
  ]
}